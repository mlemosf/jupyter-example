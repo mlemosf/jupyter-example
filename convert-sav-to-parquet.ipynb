{
 "cells": [
  {
   "cell_type": "code",
   "execution_count": null,
   "id": "c63574ba",
   "metadata": {
    "vscode": {
     "languageId": "r"
    }
   },
   "outputs": [],
   "source": [
    "library(arrow)\n",
    "library(aws.s3)\n",
    "library(haven) # read_sav\n",
    "library(labelled)\n",
    "\n",
    "# Configuração do S3\n",
    "Sys.setenv(\n",
    "    \"AWS_ACCESS_KEY_ID\" = \"\",\n",
    "    \"AWS_SECRET_ACCESS_KEY\" = \"\",\n",
    "    \"AWS_S3_ENDPOINT\"= \"s3-h.ipe.df.gov.br\"\n",
    ")\n",
    "\n",
    "OBJECT_OLD_KEY = 'DIEPS/bases/ped/NovaPEDDF2016.sav'\n",
    "OBJECT_NEW_KEY = 'DIEPS/bases/ped-parquet/NovaPEDDF2016.parquet'\n",
    "BUCKET_NAME = 'raw'\n",
    "OUTPUT_NAME = '/tmp/output.parquet'"
   ]
  },
  {
   "cell_type": "code",
   "execution_count": 33,
   "id": "bd5a5752",
   "metadata": {
    "vscode": {
     "languageId": "r"
    }
   },
   "outputs": [
    {
     "data": {
      "text/html": [
       "<table class=\"dataframe\">\n",
       "<caption>A data.frame: 5 × 2</caption>\n",
       "<thead>\n",
       "\t<tr><th></th><th scope=col>Bucket</th><th scope=col>CreationDate</th></tr>\n",
       "\t<tr><th></th><th scope=col>&lt;chr&gt;</th><th scope=col>&lt;chr&gt;</th></tr>\n",
       "</thead>\n",
       "<tbody>\n",
       "\t<tr><th scope=row>1</th><td>archive     </td><td>2025-04-04T13:55:16.749Z</td></tr>\n",
       "\t<tr><th scope=row>2</th><td>intermediate</td><td>2024-10-21T14:53:31.843Z</td></tr>\n",
       "\t<tr><th scope=row>3</th><td>mart        </td><td>2024-10-17T12:22:09.832Z</td></tr>\n",
       "\t<tr><th scope=row>4</th><td>raw         </td><td>2024-10-21T14:53:16.576Z</td></tr>\n",
       "\t<tr><th scope=row>5</th><td>teste-admin </td><td>2024-12-05T17:42:15.673Z</td></tr>\n",
       "</tbody>\n",
       "</table>\n"
      ],
      "text/latex": [
       "A data.frame: 5 × 2\n",
       "\\begin{tabular}{r|ll}\n",
       "  & Bucket & CreationDate\\\\\n",
       "  & <chr> & <chr>\\\\\n",
       "\\hline\n",
       "\t1 & archive      & 2025-04-04T13:55:16.749Z\\\\\n",
       "\t2 & intermediate & 2024-10-21T14:53:31.843Z\\\\\n",
       "\t3 & mart         & 2024-10-17T12:22:09.832Z\\\\\n",
       "\t4 & raw          & 2024-10-21T14:53:16.576Z\\\\\n",
       "\t5 & teste-admin  & 2024-12-05T17:42:15.673Z\\\\\n",
       "\\end{tabular}\n"
      ],
      "text/markdown": [
       "\n",
       "A data.frame: 5 × 2\n",
       "\n",
       "| <!--/--> | Bucket &lt;chr&gt; | CreationDate &lt;chr&gt; |\n",
       "|---|---|---|\n",
       "| 1 | archive      | 2025-04-04T13:55:16.749Z |\n",
       "| 2 | intermediate | 2024-10-21T14:53:31.843Z |\n",
       "| 3 | mart         | 2024-10-17T12:22:09.832Z |\n",
       "| 4 | raw          | 2024-10-21T14:53:16.576Z |\n",
       "| 5 | teste-admin  | 2024-12-05T17:42:15.673Z |\n",
       "\n"
      ],
      "text/plain": [
       "  Bucket       CreationDate            \n",
       "1 archive      2025-04-04T13:55:16.749Z\n",
       "2 intermediate 2024-10-21T14:53:31.843Z\n",
       "3 mart         2024-10-17T12:22:09.832Z\n",
       "4 raw          2024-10-21T14:53:16.576Z\n",
       "5 teste-admin  2024-12-05T17:42:15.673Z"
      ]
     },
     "metadata": {},
     "output_type": "display_data"
    }
   ],
   "source": [
    "# Verifica conexão com o MinIO\n",
    "bucketlist(region = '', use_https = TRUE)"
   ]
  },
  {
   "cell_type": "code",
   "execution_count": 34,
   "id": "cd4fb741",
   "metadata": {
    "vscode": {
     "languageId": "r"
    }
   },
   "outputs": [
    {
     "data": {
      "text/html": [
       "'/tmp/RtmpSLuxXB/file5a4e26f58589c.sav'"
      ],
      "text/latex": [
       "'/tmp/RtmpSLuxXB/file5a4e26f58589c.sav'"
      ],
      "text/markdown": [
       "'/tmp/RtmpSLuxXB/file5a4e26f58589c.sav'"
      ],
      "text/plain": [
       "[1] \"/tmp/RtmpSLuxXB/file5a4e26f58589c.sav\""
      ]
     },
     "metadata": {},
     "output_type": "display_data"
    }
   ],
   "source": [
    "# Busca o objeto\n",
    "tempfile = tempfile(fileext = '.sav')\n",
    "object_path = paste0('s3://', BUCKET_NAME, '/', OBJECT_OLD_KEY)\n",
    "filename = save_object(object = object_path, file = tempfile, region = '', use_https = TRUE)\n",
    "filename"
   ]
  },
  {
   "cell_type": "code",
   "execution_count": 35,
   "id": "2083bee6",
   "metadata": {
    "vscode": {
     "languageId": "r"
    }
   },
   "outputs": [
    {
     "data": {
      "text/html": [
       "<table class=\"dataframe\">\n",
       "<caption>A tibble: 6 × 152</caption>\n",
       "<thead>\n",
       "\t<tr><th scope=col>DOMIC</th><th scope=col>FAMILIA</th><th scope=col>PESSOA</th><th scope=col>GRUPO</th><th scope=col>CONGLOM</th><th scope=col>AAMM</th><th scope=col>FATOR</th><th scope=col>C000</th><th scope=col>C030</th><th scope=col>C040</th><th scope=col>⋯</th><th scope=col>SIT</th><th scope=col>POS</th><th scope=col>CNAE</th><th scope=col>SETOR_CNAE</th><th scope=col>INST</th><th scope=col>INFLATORDF</th><th scope=col>SM</th><th scope=col>TOTFAM</th><th scope=col>TOTMORA</th><th scope=col>TAMFAM</th></tr>\n",
       "\t<tr><th scope=col>&lt;dbl&gt;</th><th scope=col>&lt;dbl&gt;</th><th scope=col>&lt;dbl&gt;</th><th scope=col>&lt;dbl+lbl&gt;</th><th scope=col>&lt;dbl&gt;</th><th scope=col>&lt;dbl&gt;</th><th scope=col>&lt;dbl&gt;</th><th scope=col>&lt;dbl+lbl&gt;</th><th scope=col>&lt;dbl+lbl&gt;</th><th scope=col>&lt;dbl+lbl&gt;</th><th scope=col>⋯</th><th scope=col>&lt;dbl+lbl&gt;</th><th scope=col>&lt;dbl+lbl&gt;</th><th scope=col>&lt;dbl+lbl&gt;</th><th scope=col>&lt;dbl+lbl&gt;</th><th scope=col>&lt;dbl+lbl&gt;</th><th scope=col>&lt;dbl&gt;</th><th scope=col>&lt;dbl&gt;</th><th scope=col>&lt;dbl&gt;</th><th scope=col>&lt;dbl&gt;</th><th scope=col>&lt;dbl&gt;</th></tr>\n",
       "</thead>\n",
       "<tbody>\n",
       "\t<tr><td>240020</td><td>1</td><td>1</td><td>1</td><td>2.8e+10</td><td>201607</td><td> 964.6938</td><td>1</td><td>1</td><td>1</td><td>⋯</td><td> 4</td><td> 7</td><td> 5200</td><td> 5000</td><td> 9</td><td>275.12</td><td>880</td><td>1</td><td>3</td><td>3</td></tr>\n",
       "\t<tr><td>240020</td><td>1</td><td>2</td><td>1</td><td>2.8e+10</td><td>201607</td><td> 964.6938</td><td>1</td><td>2</td><td>1</td><td>⋯</td><td> 4</td><td> 3</td><td> 5400</td><td> 5000</td><td> 9</td><td>275.12</td><td>880</td><td>1</td><td>3</td><td>3</td></tr>\n",
       "\t<tr><td>240020</td><td>1</td><td>3</td><td>1</td><td>2.8e+10</td><td>201607</td><td> 964.6938</td><td>1</td><td>1</td><td>1</td><td>⋯</td><td> 4</td><td>12</td><td> 5200</td><td> 5000</td><td> 9</td><td>275.12</td><td>880</td><td>1</td><td>3</td><td>3</td></tr>\n",
       "\t<tr><td>240070</td><td>1</td><td>1</td><td>1</td><td>2.8e+10</td><td>201607</td><td> 964.6938</td><td>1</td><td>2</td><td>1</td><td>⋯</td><td> 4</td><td> 2</td><td> 5200</td><td> 5000</td><td>10</td><td>275.12</td><td>880</td><td>1</td><td>2</td><td>2</td></tr>\n",
       "\t<tr><td>240070</td><td>1</td><td>2</td><td>1</td><td>2.8e+10</td><td>201607</td><td>1138.9987</td><td>1</td><td>1</td><td>1</td><td>⋯</td><td>10</td><td> 0</td><td>10000</td><td>10000</td><td> 4</td><td>275.12</td><td>880</td><td>1</td><td>2</td><td>2</td></tr>\n",
       "\t<tr><td>240090</td><td>1</td><td>1</td><td>1</td><td>2.8e+10</td><td>201607</td><td> 947.3296</td><td>2</td><td>1</td><td>1</td><td>⋯</td><td> 6</td><td> 0</td><td>10000</td><td>10000</td><td> 9</td><td>275.12</td><td>880</td><td>1</td><td>3</td><td>3</td></tr>\n",
       "</tbody>\n",
       "</table>\n"
      ],
      "text/latex": [
       "A tibble: 6 × 152\n",
       "\\begin{tabular}{lllllllllllllllllllll}\n",
       " DOMIC & FAMILIA & PESSOA & GRUPO & CONGLOM & AAMM & FATOR & C000 & C030 & C040 & ⋯ & SIT & POS & CNAE & SETOR\\_CNAE & INST & INFLATORDF & SM & TOTFAM & TOTMORA & TAMFAM\\\\\n",
       " <dbl> & <dbl> & <dbl> & <dbl+lbl> & <dbl> & <dbl> & <dbl> & <dbl+lbl> & <dbl+lbl> & <dbl+lbl> & ⋯ & <dbl+lbl> & <dbl+lbl> & <dbl+lbl> & <dbl+lbl> & <dbl+lbl> & <dbl> & <dbl> & <dbl> & <dbl> & <dbl>\\\\\n",
       "\\hline\n",
       "\t 240020 & 1 & 1 & 1 & 2.8e+10 & 201607 &  964.6938 & 1 & 1 & 1 & ⋯ &  4 &  7 &  5200 &  5000 &  9 & 275.12 & 880 & 1 & 3 & 3\\\\\n",
       "\t 240020 & 1 & 2 & 1 & 2.8e+10 & 201607 &  964.6938 & 1 & 2 & 1 & ⋯ &  4 &  3 &  5400 &  5000 &  9 & 275.12 & 880 & 1 & 3 & 3\\\\\n",
       "\t 240020 & 1 & 3 & 1 & 2.8e+10 & 201607 &  964.6938 & 1 & 1 & 1 & ⋯ &  4 & 12 &  5200 &  5000 &  9 & 275.12 & 880 & 1 & 3 & 3\\\\\n",
       "\t 240070 & 1 & 1 & 1 & 2.8e+10 & 201607 &  964.6938 & 1 & 2 & 1 & ⋯ &  4 &  2 &  5200 &  5000 & 10 & 275.12 & 880 & 1 & 2 & 2\\\\\n",
       "\t 240070 & 1 & 2 & 1 & 2.8e+10 & 201607 & 1138.9987 & 1 & 1 & 1 & ⋯ & 10 &  0 & 10000 & 10000 &  4 & 275.12 & 880 & 1 & 2 & 2\\\\\n",
       "\t 240090 & 1 & 1 & 1 & 2.8e+10 & 201607 &  947.3296 & 2 & 1 & 1 & ⋯ &  6 &  0 & 10000 & 10000 &  9 & 275.12 & 880 & 1 & 3 & 3\\\\\n",
       "\\end{tabular}\n"
      ],
      "text/markdown": [
       "\n",
       "A tibble: 6 × 152\n",
       "\n",
       "| DOMIC &lt;dbl&gt; | FAMILIA &lt;dbl&gt; | PESSOA &lt;dbl&gt; | GRUPO &lt;dbl+lbl&gt; | CONGLOM &lt;dbl&gt; | AAMM &lt;dbl&gt; | FATOR &lt;dbl&gt; | C000 &lt;dbl+lbl&gt; | C030 &lt;dbl+lbl&gt; | C040 &lt;dbl+lbl&gt; | ⋯ ⋯ | SIT &lt;dbl+lbl&gt; | POS &lt;dbl+lbl&gt; | CNAE &lt;dbl+lbl&gt; | SETOR_CNAE &lt;dbl+lbl&gt; | INST &lt;dbl+lbl&gt; | INFLATORDF &lt;dbl&gt; | SM &lt;dbl&gt; | TOTFAM &lt;dbl&gt; | TOTMORA &lt;dbl&gt; | TAMFAM &lt;dbl&gt; |\n",
       "|---|---|---|---|---|---|---|---|---|---|---|---|---|---|---|---|---|---|---|---|---|\n",
       "| 240020 | 1 | 1 | 1 | 2.8e+10 | 201607 |  964.6938 | 1 | 1 | 1 | ⋯ |  4 |  7 |  5200 |  5000 |  9 | 275.12 | 880 | 1 | 3 | 3 |\n",
       "| 240020 | 1 | 2 | 1 | 2.8e+10 | 201607 |  964.6938 | 1 | 2 | 1 | ⋯ |  4 |  3 |  5400 |  5000 |  9 | 275.12 | 880 | 1 | 3 | 3 |\n",
       "| 240020 | 1 | 3 | 1 | 2.8e+10 | 201607 |  964.6938 | 1 | 1 | 1 | ⋯ |  4 | 12 |  5200 |  5000 |  9 | 275.12 | 880 | 1 | 3 | 3 |\n",
       "| 240070 | 1 | 1 | 1 | 2.8e+10 | 201607 |  964.6938 | 1 | 2 | 1 | ⋯ |  4 |  2 |  5200 |  5000 | 10 | 275.12 | 880 | 1 | 2 | 2 |\n",
       "| 240070 | 1 | 2 | 1 | 2.8e+10 | 201607 | 1138.9987 | 1 | 1 | 1 | ⋯ | 10 |  0 | 10000 | 10000 |  4 | 275.12 | 880 | 1 | 2 | 2 |\n",
       "| 240090 | 1 | 1 | 1 | 2.8e+10 | 201607 |  947.3296 | 2 | 1 | 1 | ⋯ |  6 |  0 | 10000 | 10000 |  9 | 275.12 | 880 | 1 | 3 | 3 |\n",
       "\n"
      ],
      "text/plain": [
       "  DOMIC  FAMILIA PESSOA GRUPO CONGLOM AAMM   FATOR     C000 C030 C040 ⋯ SIT POS\n",
       "1 240020 1       1      1     2.8e+10 201607  964.6938 1    1    1    ⋯  4   7 \n",
       "2 240020 1       2      1     2.8e+10 201607  964.6938 1    2    1    ⋯  4   3 \n",
       "3 240020 1       3      1     2.8e+10 201607  964.6938 1    1    1    ⋯  4  12 \n",
       "4 240070 1       1      1     2.8e+10 201607  964.6938 1    2    1    ⋯  4   2 \n",
       "5 240070 1       2      1     2.8e+10 201607 1138.9987 1    1    1    ⋯ 10   0 \n",
       "6 240090 1       1      1     2.8e+10 201607  947.3296 2    1    1    ⋯  6   0 \n",
       "  CNAE  SETOR_CNAE INST INFLATORDF SM  TOTFAM TOTMORA TAMFAM\n",
       "1  5200  5000       9   275.12     880 1      3       3     \n",
       "2  5400  5000       9   275.12     880 1      3       3     \n",
       "3  5200  5000       9   275.12     880 1      3       3     \n",
       "4  5200  5000      10   275.12     880 1      2       2     \n",
       "5 10000 10000       4   275.12     880 1      2       2     \n",
       "6 10000 10000       9   275.12     880 1      3       3     "
      ]
     },
     "metadata": {},
     "output_type": "display_data"
    }
   ],
   "source": [
    "data <- read_sav(filename)\n",
    "head(data)"
   ]
  },
  {
   "cell_type": "markdown",
   "id": "afd49dd1",
   "metadata": {},
   "source": [
    "# Substituição de labels\n",
    "\n",
    "As labels geradas pelo SPSS não tem um formato legal de serialização, então antes de armazenar os dados em parquet, seria interesante adicionar os dados em um formato de melhor serialização, como um dicionário."
   ]
  },
  {
   "cell_type": "code",
   "execution_count": 42,
   "id": "b6ba5a59",
   "metadata": {
    "vscode": {
     "languageId": "r"
    }
   },
   "outputs": [
    {
     "data": {
      "text/html": [
       "<table class=\"dataframe\">\n",
       "<caption>A tibble: 6 × 152</caption>\n",
       "<thead>\n",
       "\t<tr><th scope=col>DOMIC</th><th scope=col>FAMILIA</th><th scope=col>PESSOA</th><th scope=col>GRUPO</th><th scope=col>CONGLOM</th><th scope=col>AAMM</th><th scope=col>FATOR</th><th scope=col>C000</th><th scope=col>C030</th><th scope=col>C040</th><th scope=col>⋯</th><th scope=col>SIT</th><th scope=col>POS</th><th scope=col>CNAE</th><th scope=col>SETOR_CNAE</th><th scope=col>INST</th><th scope=col>INFLATORDF</th><th scope=col>SM</th><th scope=col>TOTFAM</th><th scope=col>TOTMORA</th><th scope=col>TAMFAM</th></tr>\n",
       "\t<tr><th scope=col>&lt;dbl&gt;</th><th scope=col>&lt;dbl&gt;</th><th scope=col>&lt;dbl&gt;</th><th scope=col>&lt;fct&gt;</th><th scope=col>&lt;dbl&gt;</th><th scope=col>&lt;dbl&gt;</th><th scope=col>&lt;dbl&gt;</th><th scope=col>&lt;fct&gt;</th><th scope=col>&lt;fct&gt;</th><th scope=col>&lt;fct&gt;</th><th scope=col>⋯</th><th scope=col>&lt;fct&gt;</th><th scope=col>&lt;fct&gt;</th><th scope=col>&lt;fct&gt;</th><th scope=col>&lt;fct&gt;</th><th scope=col>&lt;fct&gt;</th><th scope=col>&lt;dbl&gt;</th><th scope=col>&lt;dbl&gt;</th><th scope=col>&lt;dbl&gt;</th><th scope=col>&lt;dbl&gt;</th><th scope=col>&lt;dbl&gt;</th></tr>\n",
       "</thead>\n",
       "<tbody>\n",
       "\t<tr><td>240020</td><td>1</td><td>1</td><td>Alta Renda</td><td>2.8e+10</td><td>201607</td><td> 964.6938</td><td>Apenas um morador </td><td>Masculino</td><td>Branca</td><td>⋯</td><td>Ocupado                         </td><td>Empregador     </td><td>Informação e Comunicação; Ativid. Financeiras, Seguros e Relacionados, Ativid.Profissionais, Científicas e Técnica</td><td>Serviços   </td><td>Ensino Superior Completo     </td><td>275.12</td><td>880</td><td>1</td><td>3</td><td>3</td></tr>\n",
       "\t<tr><td>240020</td><td>1</td><td>2</td><td>Alta Renda</td><td>2.8e+10</td><td>201607</td><td> 964.6938</td><td>Apenas um morador </td><td>Feminino </td><td>Branca</td><td>⋯</td><td>Ocupado                         </td><td>Ass Pub        </td><td>Administração Pública, Defesa e Seguridade Social, Educação, Saúde Humana e Serviços Sociais                      </td><td>Serviços   </td><td>Ensino Superior Completo     </td><td>275.12</td><td>880</td><td>1</td><td>3</td><td>3</td></tr>\n",
       "\t<tr><td>240020</td><td>1</td><td>3</td><td>Alta Renda</td><td>2.8e+10</td><td>201607</td><td> 964.6938</td><td>Apenas um morador </td><td>Masculino</td><td>Branca</td><td>⋯</td><td>Ocupado                         </td><td>Outros         </td><td>Informação e Comunicação; Ativid. Financeiras, Seguros e Relacionados, Ativid.Profissionais, Científicas e Técnica</td><td>Serviços   </td><td>Ensino Superior Completo     </td><td>275.12</td><td>880</td><td>1</td><td>3</td><td>3</td></tr>\n",
       "\t<tr><td>240070</td><td>1</td><td>1</td><td>Alta Renda</td><td>2.8e+10</td><td>201607</td><td> 964.6938</td><td>Apenas um morador </td><td>Feminino </td><td>Branca</td><td>⋯</td><td>Ocupado                         </td><td>Ass Priv S Cart</td><td>Informação e Comunicação; Ativid. Financeiras, Seguros e Relacionados, Ativid.Profissionais, Científicas e Técnica</td><td>Serviços   </td><td>Pós graduação                </td><td>275.12</td><td>880</td><td>1</td><td>2</td><td>2</td></tr>\n",
       "\t<tr><td>240070</td><td>1</td><td>2</td><td>Alta Renda</td><td>2.8e+10</td><td>201607</td><td>1138.9987</td><td>Apenas um morador </td><td>Masculino</td><td>Branca</td><td>⋯</td><td>Não se aplica (menor de 14 anos)</td><td>Não ocupado    </td><td>Não ocupado                                                                                                       </td><td>Não ocupado</td><td>Ensino Fundamental Incompleto</td><td>275.12</td><td>880</td><td>1</td><td>2</td><td>2</td></tr>\n",
       "\t<tr><td>240090</td><td>1</td><td>1</td><td>Alta Renda</td><td>2.8e+10</td><td>201607</td><td> 947.3296</td><td>Mais de um morador</td><td>Masculino</td><td>Branca</td><td>⋯</td><td>Inativo Puro                    </td><td>Não ocupado    </td><td>Não ocupado                                                                                                       </td><td>Não ocupado</td><td>Ensino Superior Completo     </td><td>275.12</td><td>880</td><td>1</td><td>3</td><td>3</td></tr>\n",
       "</tbody>\n",
       "</table>\n"
      ],
      "text/latex": [
       "A tibble: 6 × 152\n",
       "\\begin{tabular}{lllllllllllllllllllll}\n",
       " DOMIC & FAMILIA & PESSOA & GRUPO & CONGLOM & AAMM & FATOR & C000 & C030 & C040 & ⋯ & SIT & POS & CNAE & SETOR\\_CNAE & INST & INFLATORDF & SM & TOTFAM & TOTMORA & TAMFAM\\\\\n",
       " <dbl> & <dbl> & <dbl> & <fct> & <dbl> & <dbl> & <dbl> & <fct> & <fct> & <fct> & ⋯ & <fct> & <fct> & <fct> & <fct> & <fct> & <dbl> & <dbl> & <dbl> & <dbl> & <dbl>\\\\\n",
       "\\hline\n",
       "\t 240020 & 1 & 1 & Alta Renda & 2.8e+10 & 201607 &  964.6938 & Apenas um morador  & Masculino & Branca & ⋯ & Ocupado                          & Empregador      & Informação e Comunicação; Ativid. Financeiras, Seguros e Relacionados, Ativid.Profissionais, Científicas e Técnica & Serviços    & Ensino Superior Completo      & 275.12 & 880 & 1 & 3 & 3\\\\\n",
       "\t 240020 & 1 & 2 & Alta Renda & 2.8e+10 & 201607 &  964.6938 & Apenas um morador  & Feminino  & Branca & ⋯ & Ocupado                          & Ass Pub         & Administração Pública, Defesa e Seguridade Social, Educação, Saúde Humana e Serviços Sociais                       & Serviços    & Ensino Superior Completo      & 275.12 & 880 & 1 & 3 & 3\\\\\n",
       "\t 240020 & 1 & 3 & Alta Renda & 2.8e+10 & 201607 &  964.6938 & Apenas um morador  & Masculino & Branca & ⋯ & Ocupado                          & Outros          & Informação e Comunicação; Ativid. Financeiras, Seguros e Relacionados, Ativid.Profissionais, Científicas e Técnica & Serviços    & Ensino Superior Completo      & 275.12 & 880 & 1 & 3 & 3\\\\\n",
       "\t 240070 & 1 & 1 & Alta Renda & 2.8e+10 & 201607 &  964.6938 & Apenas um morador  & Feminino  & Branca & ⋯ & Ocupado                          & Ass Priv S Cart & Informação e Comunicação; Ativid. Financeiras, Seguros e Relacionados, Ativid.Profissionais, Científicas e Técnica & Serviços    & Pós graduação                 & 275.12 & 880 & 1 & 2 & 2\\\\\n",
       "\t 240070 & 1 & 2 & Alta Renda & 2.8e+10 & 201607 & 1138.9987 & Apenas um morador  & Masculino & Branca & ⋯ & Não se aplica (menor de 14 anos) & Não ocupado     & Não ocupado                                                                                                        & Não ocupado & Ensino Fundamental Incompleto & 275.12 & 880 & 1 & 2 & 2\\\\\n",
       "\t 240090 & 1 & 1 & Alta Renda & 2.8e+10 & 201607 &  947.3296 & Mais de um morador & Masculino & Branca & ⋯ & Inativo Puro                     & Não ocupado     & Não ocupado                                                                                                        & Não ocupado & Ensino Superior Completo      & 275.12 & 880 & 1 & 3 & 3\\\\\n",
       "\\end{tabular}\n"
      ],
      "text/markdown": [
       "\n",
       "A tibble: 6 × 152\n",
       "\n",
       "| DOMIC &lt;dbl&gt; | FAMILIA &lt;dbl&gt; | PESSOA &lt;dbl&gt; | GRUPO &lt;fct&gt; | CONGLOM &lt;dbl&gt; | AAMM &lt;dbl&gt; | FATOR &lt;dbl&gt; | C000 &lt;fct&gt; | C030 &lt;fct&gt; | C040 &lt;fct&gt; | ⋯ ⋯ | SIT &lt;fct&gt; | POS &lt;fct&gt; | CNAE &lt;fct&gt; | SETOR_CNAE &lt;fct&gt; | INST &lt;fct&gt; | INFLATORDF &lt;dbl&gt; | SM &lt;dbl&gt; | TOTFAM &lt;dbl&gt; | TOTMORA &lt;dbl&gt; | TAMFAM &lt;dbl&gt; |\n",
       "|---|---|---|---|---|---|---|---|---|---|---|---|---|---|---|---|---|---|---|---|---|\n",
       "| 240020 | 1 | 1 | Alta Renda | 2.8e+10 | 201607 |  964.6938 | Apenas um morador  | Masculino | Branca | ⋯ | Ocupado                          | Empregador      | Informação e Comunicação; Ativid. Financeiras, Seguros e Relacionados, Ativid.Profissionais, Científicas e Técnica | Serviços    | Ensino Superior Completo      | 275.12 | 880 | 1 | 3 | 3 |\n",
       "| 240020 | 1 | 2 | Alta Renda | 2.8e+10 | 201607 |  964.6938 | Apenas um morador  | Feminino  | Branca | ⋯ | Ocupado                          | Ass Pub         | Administração Pública, Defesa e Seguridade Social, Educação, Saúde Humana e Serviços Sociais                       | Serviços    | Ensino Superior Completo      | 275.12 | 880 | 1 | 3 | 3 |\n",
       "| 240020 | 1 | 3 | Alta Renda | 2.8e+10 | 201607 |  964.6938 | Apenas um morador  | Masculino | Branca | ⋯ | Ocupado                          | Outros          | Informação e Comunicação; Ativid. Financeiras, Seguros e Relacionados, Ativid.Profissionais, Científicas e Técnica | Serviços    | Ensino Superior Completo      | 275.12 | 880 | 1 | 3 | 3 |\n",
       "| 240070 | 1 | 1 | Alta Renda | 2.8e+10 | 201607 |  964.6938 | Apenas um morador  | Feminino  | Branca | ⋯ | Ocupado                          | Ass Priv S Cart | Informação e Comunicação; Ativid. Financeiras, Seguros e Relacionados, Ativid.Profissionais, Científicas e Técnica | Serviços    | Pós graduação                 | 275.12 | 880 | 1 | 2 | 2 |\n",
       "| 240070 | 1 | 2 | Alta Renda | 2.8e+10 | 201607 | 1138.9987 | Apenas um morador  | Masculino | Branca | ⋯ | Não se aplica (menor de 14 anos) | Não ocupado     | Não ocupado                                                                                                        | Não ocupado | Ensino Fundamental Incompleto | 275.12 | 880 | 1 | 2 | 2 |\n",
       "| 240090 | 1 | 1 | Alta Renda | 2.8e+10 | 201607 |  947.3296 | Mais de um morador | Masculino | Branca | ⋯ | Inativo Puro                     | Não ocupado     | Não ocupado                                                                                                        | Não ocupado | Ensino Superior Completo      | 275.12 | 880 | 1 | 3 | 3 |\n",
       "\n"
      ],
      "text/plain": [
       "  DOMIC  FAMILIA PESSOA GRUPO      CONGLOM AAMM   FATOR     C000              \n",
       "1 240020 1       1      Alta Renda 2.8e+10 201607  964.6938 Apenas um morador \n",
       "2 240020 1       2      Alta Renda 2.8e+10 201607  964.6938 Apenas um morador \n",
       "3 240020 1       3      Alta Renda 2.8e+10 201607  964.6938 Apenas um morador \n",
       "4 240070 1       1      Alta Renda 2.8e+10 201607  964.6938 Apenas um morador \n",
       "5 240070 1       2      Alta Renda 2.8e+10 201607 1138.9987 Apenas um morador \n",
       "6 240090 1       1      Alta Renda 2.8e+10 201607  947.3296 Mais de um morador\n",
       "  C030      C040   ⋯ SIT                              POS            \n",
       "1 Masculino Branca ⋯ Ocupado                          Empregador     \n",
       "2 Feminino  Branca ⋯ Ocupado                          Ass Pub        \n",
       "3 Masculino Branca ⋯ Ocupado                          Outros         \n",
       "4 Feminino  Branca ⋯ Ocupado                          Ass Priv S Cart\n",
       "5 Masculino Branca ⋯ Não se aplica (menor de 14 anos) Não ocupado    \n",
       "6 Masculino Branca ⋯ Inativo Puro                     Não ocupado    \n",
       "  CNAE                                                                                                              \n",
       "1 Informação e Comunicação; Ativid. Financeiras, Seguros e Relacionados, Ativid.Profissionais, Científicas e Técnica\n",
       "2 Administração Pública, Defesa e Seguridade Social, Educação, Saúde Humana e Serviços Sociais                      \n",
       "3 Informação e Comunicação; Ativid. Financeiras, Seguros e Relacionados, Ativid.Profissionais, Científicas e Técnica\n",
       "4 Informação e Comunicação; Ativid. Financeiras, Seguros e Relacionados, Ativid.Profissionais, Científicas e Técnica\n",
       "5 Não ocupado                                                                                                       \n",
       "6 Não ocupado                                                                                                       \n",
       "  SETOR_CNAE  INST                          INFLATORDF SM  TOTFAM TOTMORA\n",
       "1 Serviços    Ensino Superior Completo      275.12     880 1      3      \n",
       "2 Serviços    Ensino Superior Completo      275.12     880 1      3      \n",
       "3 Serviços    Ensino Superior Completo      275.12     880 1      3      \n",
       "4 Serviços    Pós graduação                 275.12     880 1      2      \n",
       "5 Não ocupado Ensino Fundamental Incompleto 275.12     880 1      2      \n",
       "6 Não ocupado Ensino Superior Completo      275.12     880 1      3      \n",
       "  TAMFAM\n",
       "1 3     \n",
       "2 3     \n",
       "3 3     \n",
       "4 2     \n",
       "5 2     \n",
       "6 3     "
      ]
     },
     "metadata": {},
     "output_type": "display_data"
    }
   ],
   "source": [
    "# Converte os campos categóricos em factor\n",
    "data = as_factor(data, only_labelled = TRUE)\n",
    "head(data)"
   ]
  },
  {
   "cell_type": "code",
   "execution_count": 43,
   "id": "212338c1",
   "metadata": {
    "vscode": {
     "languageId": "r"
    }
   },
   "outputs": [
    {
     "data": {
      "text/plain": [
       "Table\n",
       "29773 rows x 152 columns\n",
       "$DOMIC <double>\n",
       "$FAMILIA <double>\n",
       "$PESSOA <double>\n",
       "$GRUPO <dictionary<values=string, indices=int8>>\n",
       "$CONGLOM <double>\n",
       "$AAMM <double>\n",
       "$FATOR <double>\n",
       "$C000 <dictionary<values=string, indices=int8>>\n",
       "$C030 <dictionary<values=string, indices=int8>>\n",
       "$C040 <dictionary<values=string, indices=int8>>\n",
       "$C050 <dictionary<values=string, indices=int8>>\n",
       "$C061 <dictionary<values=string, indices=int8>>\n",
       "$C062 <dictionary<values=string, indices=int8>>\n",
       "$C070 <dictionary<values=string, indices=int8>>\n",
       "$D010 <dictionary<values=string, indices=int8>>\n",
       "$D0211 <dictionary<values=string, indices=int8>>\n",
       "$D0212 <dictionary<values=string, indices=int16>>\n",
       "$D0221 <dictionary<values=string, indices=int8>>\n",
       "$D0222 <dictionary<values=string, indices=int8>>\n",
       "$D0231 <dictionary<values=string, indices=int8>>\n",
       "...\n",
       "132 more columns\n",
       "Use `schema()` to see entire schema\n",
       "\n",
       "See $metadata for additional Schema metadata"
      ]
     },
     "metadata": {},
     "output_type": "display_data"
    }
   ],
   "source": [
    "# Converte o dado para uma tabela do arrow\n",
    "df2 <- arrow_table(data) \n",
    "df2"
   ]
  },
  {
   "cell_type": "markdown",
   "id": "1a658555",
   "metadata": {},
   "source": [
    "# Conversão para parquet\n",
    "\n",
    "Converte o dataframe para parquet"
   ]
  },
  {
   "cell_type": "code",
   "execution_count": 40,
   "id": "0c637c9f",
   "metadata": {
    "vscode": {
     "languageId": "r"
    }
   },
   "outputs": [],
   "source": [
    "write_parquet(\n",
    "    x = df2,\n",
    "    sink = OUTPUT_NAME,\n",
    "    compression = 'snappy',\n",
    "    use_dictionary = TRUE\n",
    ")"
   ]
  },
  {
   "cell_type": "markdown",
   "id": "290fc58b",
   "metadata": {
    "vscode": {
     "languageId": "r"
    }
   },
   "source": [
    "# Carregamento\n",
    "\n",
    "Salva o arquivo de volta no bucket `raw`."
   ]
  },
  {
   "cell_type": "code",
   "execution_count": 41,
   "id": "84601583",
   "metadata": {
    "vscode": {
     "languageId": "r"
    }
   },
   "outputs": [
    {
     "data": {
      "text/html": [
       "TRUE"
      ],
      "text/latex": [
       "TRUE"
      ],
      "text/markdown": [
       "TRUE"
      ],
      "text/plain": [
       "[1] TRUE"
      ]
     },
     "metadata": {},
     "output_type": "display_data"
    }
   ],
   "source": [
    "put_object(\n",
    "    bucket = BUCKET_NAME,\n",
    "    object = OBJECT_NEW_KEY,\n",
    "    file = OUTPUT_NAME,\n",
    "    region = '',\n",
    "    use_https = TRUE\n",
    ")"
   ]
  }
 ],
 "metadata": {
  "kernelspec": {
   "display_name": "R",
   "language": "R",
   "name": "ir"
  },
  "language_info": {
   "codemirror_mode": "r",
   "file_extension": ".r",
   "mimetype": "text/x-r-source",
   "name": "R",
   "pygments_lexer": "r",
   "version": "4.5.0"
  }
 },
 "nbformat": 4,
 "nbformat_minor": 5
}
