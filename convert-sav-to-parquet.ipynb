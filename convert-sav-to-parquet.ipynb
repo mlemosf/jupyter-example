{
 "cells": [
  {
   "cell_type": "code",
   "execution_count": null,
   "id": "c63574ba",
   "metadata": {
    "vscode": {
     "languageId": "r"
    }
   },
   "outputs": [],
   "source": [
    "library(arrow)\n",
    "library(aws.s3)\n",
    "library(haven) # read_sav\n",
    "\n",
    "# Configuração do S3\n",
    "Sys.setenv(\n",
    "    \"AWS_ACCESS_KEY_ID\" = \"\",\n",
    "    \"AWS_SECRET_ACCESS_KEY\" = \"\",\n",
    "    \"AWS_S3_ENDPOINT\"= \"s3-h.ipe.df.gov.br\"\n",
    ")\n",
    "\n",
    "OBJECT_OLD_KEY = 'DIEPS/bases/ped/NovaPEDDF2016.sav'\n",
    "OBJECT_NEW_KEY = 'DIEPS/bases/ped-parquet/NovaPEDDF2016.parquet'\n",
    "BUCKET_NAME = 'raw'\n",
    "OUTPUT_NAME = '/tmp/output.parquet'"
   ]
  },
  {
   "cell_type": "code",
   "execution_count": null,
   "id": "bd5a5752",
   "metadata": {
    "vscode": {
     "languageId": "r"
    }
   },
   "outputs": [],
   "source": [
    "# Verifica conexão com o MinIO\n",
    "bucketlist(region = '', use_https = TRUE)"
   ]
  },
  {
   "cell_type": "code",
   "execution_count": null,
   "id": "cd4fb741",
   "metadata": {
    "vscode": {
     "languageId": "r"
    }
   },
   "outputs": [],
   "source": [
    "# Busca o objeto\n",
    "tempfile = tempfile(fileext = '.sav')\n",
    "object_path = paste0('s3://', BUCKET_NAME, '/', OBJECT_OLD_KEY)\n",
    "filename = save_object(object = object_path, file = tempfile, region = '', use_https = TRUE)\n",
    "filename"
   ]
  },
  {
   "cell_type": "code",
   "execution_count": null,
   "id": "2083bee6",
   "metadata": {
    "vscode": {
     "languageId": "r"
    }
   },
   "outputs": [],
   "source": [
    "data <- read_sav(filename)\n",
    "head(data)"
   ]
  },
  {
   "cell_type": "code",
   "execution_count": null,
   "id": "6815c081",
   "metadata": {
    "vscode": {
     "languageId": "r"
    }
   },
   "outputs": [],
   "source": [
    "attr(data$GRUPO, \"labels\")"
   ]
  },
  {
   "cell_type": "code",
   "execution_count": null,
   "id": "212338c1",
   "metadata": {
    "vscode": {
     "languageId": "r"
    }
   },
   "outputs": [],
   "source": [
    "# Converte o dado para uma tabela do arrow\n",
    "df2 <- arrow_table(data)  \n",
    "df2$GRUPO"
   ]
  },
  {
   "cell_type": "code",
   "execution_count": null,
   "id": "0d2b6d0c",
   "metadata": {
    "vscode": {
     "languageId": "r"
    }
   },
   "outputs": [],
   "source": [
    "df2$schema"
   ]
  },
  {
   "cell_type": "markdown",
   "id": "1a658555",
   "metadata": {},
   "source": [
    "# Conversão para parquet\n",
    "\n",
    "Converte o dataframe para parquet"
   ]
  },
  {
   "cell_type": "code",
   "execution_count": null,
   "id": "0c637c9f",
   "metadata": {
    "vscode": {
     "languageId": "r"
    }
   },
   "outputs": [],
   "source": [
    "# write_parquet(\n",
    "#     path_to_file = filename,\n",
    "#     path_to_parquet = OUTPUT_NAME,\n",
    "#     encoding = 'utf-8',\n",
    "#     compression = 'snappy'\n",
    "# )\n",
    "\n",
    "write_parquet(\n",
    "    x = df2,\n",
    "    sink = OUTPUT_NAME,\n",
    "    compression = 'snappy',\n",
    "    use_dictionary = TRUE\n",
    ")\n"
   ]
  },
  {
   "cell_type": "markdown",
   "id": "290fc58b",
   "metadata": {
    "vscode": {
     "languageId": "r"
    }
   },
   "source": [
    "# Carregamento\n",
    "\n",
    "Salva o arquivo de volta no bucket `raw`."
   ]
  },
  {
   "cell_type": "code",
   "execution_count": null,
   "id": "84601583",
   "metadata": {
    "vscode": {
     "languageId": "r"
    }
   },
   "outputs": [],
   "source": [
    "put_object(\n",
    "    bucket = BUCKET_NAME,\n",
    "    object = OBJECT_NEW_KEY,\n",
    "    file = OUTPUT_NAME,\n",
    "    region = '',\n",
    "    use_https = TRUE\n",
    ")"
   ]
  }
 ],
 "metadata": {
  "kernelspec": {
   "display_name": "R",
   "language": "R",
   "name": "ir"
  },
  "language_info": {
   "codemirror_mode": "r",
   "file_extension": ".r",
   "mimetype": "text/x-r-source",
   "name": "R",
   "pygments_lexer": "r",
   "version": "4.5.0"
  }
 },
 "nbformat": 4,
 "nbformat_minor": 5
}
