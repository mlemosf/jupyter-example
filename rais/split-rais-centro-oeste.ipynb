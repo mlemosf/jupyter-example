{
 "cells": [
  {
   "cell_type": "markdown",
   "id": "ddd260c3",
   "metadata": {},
   "source": [
    "# RAIS Centro-Oeste\n",
    "\n",
    "Arquivo para divisão do dataset da RAIS Centro Oeste, conforme carregada pela DIEPS, em vários arquivos parquet com no máximo 1.000.000 de registros cada. "
   ]
  },
  {
   "cell_type": "code",
   "execution_count": null,
   "id": "db4600ca",
   "metadata": {},
   "outputs": [],
   "source": [
    "import pyarrow.parquet as pq\n",
    "import pyarrow as pa\n",
    "import s3fs\n",
    "import pandas as pd"
   ]
  },
  {
   "cell_type": "code",
   "execution_count": null,
   "id": "afa03fa7",
   "metadata": {},
   "outputs": [],
   "source": [
    "ACCESS_KEY = ''\n",
    "SECRET_KEY = ''\n",
    "SOURCE_FILE = 'raw/DIEPS/bases/rais/RAIS_VINC_PUB_CENTRO_OESTE_2024.txt'\n",
    "MINIO_HOST = 'http://minio:9000'\n",
    "PANDAS_CHUNK_SIZE = 200000 # 200.000 linhas por chunk\n",
    "PANDAS_NROWS = 1000000\n",
    "PANDAS_OFFSET = 6000000\n",
    "ANO = 2024\n",
    "\n",
    "TARGET_FILE = f'intermediate/DIEPS/bases/rais/{ANO}/rais-centro-oeste-{PANDAS_OFFSET}-{(PANDAS_OFFSET + PANDAS_NROWS) - 1}.parquet'\n",
    "\n",
    "# Metadados\n",
    "RESPONSAVEL_NOME = 'matheus.fernandes'\n",
    "RESPONSAVEL_EMAIL = 'matheus.fernandes@ipe.df.gov.br'\n",
    "RESPONSAVEL_SETOR = 'UCTIS/COGEI/GEINO'\n",
    "PROCESSED = 'False'"
   ]
  },
  {
   "cell_type": "code",
   "execution_count": null,
   "id": "dcb864e0",
   "metadata": {},
   "outputs": [],
   "source": [
    "minio = s3fs.S3FileSystem(key=ACCESS_KEY, # change default key \n",
    "                        secret=SECRET_KEY, # change default secret\n",
    "                        use_ssl=False,\n",
    "                        client_kwargs={\n",
    "                            'endpoint_url': MINIO_HOST} # change ip\n",
    "                        )\n",
    "\n",
    "# Verifiacação da conexão \n",
    "objects = minio.ls('raw/DIEPS/bases/rais')\n",
    "objects"
   ]
  },
  {
   "cell_type": "code",
   "execution_count": null,
   "id": "d1ce3e09",
   "metadata": {},
   "outputs": [],
   "source": [
    "\n",
    "\n",
    "# Read CSV in chunks\n",
    "chunks = []\n",
    "i = 0\n",
    "for chunk in pd.read_csv(\n",
    "    f\"s3://{SOURCE_FILE}\",\n",
    "    storage_options={\n",
    "        \"key\": ACCESS_KEY,\n",
    "        \"secret\": SECRET_KEY,\n",
    "        \"client_kwargs\": {\n",
    "            \"endpoint_url\": MINIO_HOST\n",
    "        }\n",
    "    },\n",
    "    chunksize=PANDAS_CHUNK_SIZE,\n",
    "    encoding='latin-1',\n",
    "    sep=';',\n",
    "    nrows=PANDAS_NROWS,\n",
    "    skiprows=range(1, PANDAS_OFFSET)\n",
    "):\n",
    "    chunks.append(chunk)  # Store each chunk in a list\n",
    "#\n",
    "## Combine all chunks into a single DataFrame (if needed)\n",
    "df = pd.concat(chunks, ignore_index=True)"
   ]
  },
  {
   "cell_type": "code",
   "execution_count": null,
   "id": "c99ddbb5",
   "metadata": {},
   "outputs": [],
   "source": [
    "# Decodifica\n",
    "df.info(verbose=True)"
   ]
  },
  {
   "cell_type": "code",
   "execution_count": null,
   "id": "4598d81e",
   "metadata": {},
   "outputs": [],
   "source": [
    "df"
   ]
  },
  {
   "cell_type": "code",
   "execution_count": null,
   "id": "79b79fda",
   "metadata": {},
   "outputs": [],
   "source": [
    "# Converte colunas problemáticas\n",
    "\n",
    "df['Mês Desligamento'] = df['Mês Desligamento'].astype('string')\n",
    "df['Nacionalidade'] = df['Nacionalidade'].astype('string')\n"
   ]
  },
  {
   "cell_type": "code",
   "execution_count": null,
   "id": "df190fbb",
   "metadata": {},
   "outputs": [],
   "source": [
    "minio_url = f's3://{TARGET_FILE}'\n",
    "\n",
    "pq.write_table(\n",
    "    pa.Table.from_pandas(df),\n",
    "    minio_url,\n",
    "    filesystem=minio,\n",
    "    use_dictionary=True,\n",
    "    compression='snappy',\n",
    "    version='2.6',\n",
    ")"
   ]
  },
  {
   "cell_type": "code",
   "execution_count": null,
   "id": "d3aedc8f",
   "metadata": {},
   "outputs": [],
   "source": [
    "tags = {\n",
    "    'User': RESPONSAVEL_NOME,\n",
    "    'Department': RESPONSAVEL_SETOR,\n",
    "    'Email': RESPONSAVEL_EMAIL,\n",
    "    'Processed': PROCESSED,\n",
    "}\n",
    "parquet_partitions = minio.ls(TARGET_FILE)\n",
    "# parquet_partitions\n",
    "for p in parquet_partitions:\n",
    "    minio.put_tags(p, tags, mode='o')"
   ]
  },
  {
   "cell_type": "code",
   "execution_count": null,
   "id": "8ed9dfd9",
   "metadata": {},
   "outputs": [],
   "source": [
    "# Libera a memória do dataframe\n",
    "del df"
   ]
  }
 ],
 "metadata": {
  "kernelspec": {
   "display_name": "Python 3 (ipykernel)",
   "language": "python",
   "name": "python3"
  },
  "language_info": {
   "codemirror_mode": {
    "name": "ipython",
    "version": 3
   },
   "file_extension": ".py",
   "mimetype": "text/x-python",
   "name": "python",
   "nbconvert_exporter": "python",
   "pygments_lexer": "ipython3",
   "version": "3.12.9"
  }
 },
 "nbformat": 4,
 "nbformat_minor": 5
}
