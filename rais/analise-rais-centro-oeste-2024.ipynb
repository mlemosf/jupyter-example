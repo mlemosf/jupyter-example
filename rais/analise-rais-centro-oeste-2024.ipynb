{
 "cells": [
  {
   "cell_type": "markdown",
   "id": "eba6930e",
   "metadata": {},
   "source": [
    "# RAIS Centro-Oeste (Análise)\n",
    "\n",
    "Análise dos arquivos da RAIS conforme separados em diferentes arquivos parquet particionados por ano."
   ]
  },
  {
   "cell_type": "code",
   "execution_count": 1,
   "id": "635c018e",
   "metadata": {},
   "outputs": [],
   "source": [
    "import pyarrow.dataset as pds\n",
    "import pyarrow.parquet as pq\n",
    "import pyarrow as pa\n",
    "import s3fs\n",
    "import pandas as pd"
   ]
  },
  {
   "cell_type": "code",
   "execution_count": 2,
   "id": "98de1300",
   "metadata": {},
   "outputs": [],
   "source": [
    "ACCESS_KEY = ''\n",
    "SECRET_KEY = ''\n",
    "SOURCE_FOLDER = 'intermediate/DIEPS/bases/rais/2024'\n",
    "MINIO_HOST = 'http://minio:9000'\n",
    "#PANDAS_CHUNK_SIZE = 200000 # 200.000 linhas por chunk\n",
    "#PANDAS_NROWS = 1000000\n",
    "#PANDAS_OFFSET = 6000000\n",
    "ANO = 2024\n",
    "\n",
    "#TARGET_FILE = f'intermediate/DIEPS/bases/rais/{ANO}/rais-centro-oeste-{PANDAS_OFFSET}-{(PANDAS_OFFSET + PANDAS_NROWS) - 1}.parquet'\n",
    "\n",
    "# Metadados\n",
    "RESPONSAVEL_NOME = 'matheus.fernandes'\n",
    "RESPONSAVEL_EMAIL = 'matheus.fernandes@ipe.df.gov.br'\n",
    "RESPONSAVEL_SETOR = 'UCTIS/COGEI/GEINO'\n",
    "PROCESSED = 'False'"
   ]
  },
  {
   "cell_type": "code",
   "execution_count": 3,
   "id": "34ddd2b6",
   "metadata": {},
   "outputs": [],
   "source": [
    "minio = s3fs.S3FileSystem(key=ACCESS_KEY, # change default key \n",
    "                        secret=SECRET_KEY, # change default secret\n",
    "                        use_ssl=False,\n",
    "                        client_kwargs={\n",
    "                            'endpoint_url': MINIO_HOST} # change ip\n",
    "                        )\n",
    "\n",
    "# Verifiacação da conexão \n",
    "objects = minio.head(SOURCE_FOLDER)\n",
    "objects"
   ]
  },
  {
   "cell_type": "markdown",
   "id": "4439ed61",
   "metadata": {},
   "source": [
    "## Carregamento em dataframe\n",
    "\n",
    "Os arquivos parquet listados acima serão carregados em um único dataframe.\n"
   ]
  },
  {
   "cell_type": "code",
   "execution_count": 11,
   "id": "7eba3711",
   "metadata": {},
   "outputs": [],
   "source": [
    "from io import BytesIO\n",
    "fs = s3fs.core.S3FileSystem()\n",
    "\n",
    "part = pds.partitioning(\n",
    "    pa.schema([\n",
    "        ('year', pa.int16())\n",
    "    ])\n",
    ")\n",
    "dataset = pq.ParquetDataset(\n",
    "    SOURCE_FOLDER,\n",
    "    filesystem=minio,\n",
    "    partitioning=part\n",
    ")\n",
    "\n",
    "\n",
    "# dt = dataset.to_table()\n",
    "# dt\n",
    "dataset.files\n"
   ]
  },
  {
   "cell_type": "code",
   "execution_count": 17,
   "id": "300e865f",
   "metadata": {},
   "outputs": [],
   "source": [
    "cols = [field.name for field in dataset.schema]\n",
    "cols"
   ]
  },
  {
   "cell_type": "code",
   "execution_count": 38,
   "id": "023bd1b2",
   "metadata": {},
   "outputs": [],
   "source": [
    "#df = dataset.read(columns=['Bairros SP', 'Causa Afastamento 1']).to_pandas()\n",
    "df = dataset.read_pandas(\n",
    "    columns=[\n",
    "        'Causa Afastamento 1',\n",
    "        'Causa Afastamento 2',\n",
    "        'Causa Afastamento 3',\n",
    "        'Idade',\n",
    "        'Faixa Etária'\n",
    "    ]).to_pandas()"
   ]
  },
  {
   "cell_type": "code",
   "execution_count": 39,
   "id": "ce0b814c",
   "metadata": {},
   "outputs": [],
   "source": [
    "df"
   ]
  },
  {
   "cell_type": "code",
   "execution_count": 45,
   "id": "46b19295",
   "metadata": {},
   "outputs": [],
   "source": [
    "# Remove todos que tem 99\n",
    "df = df[df['Causa Afastamento 1'] != 99]"
   ]
  },
  {
   "cell_type": "markdown",
   "id": "0af258e7",
   "metadata": {},
   "source": [
    "# Analise\n",
    "\n",
    "Verifica correlação entre causa de afastamento e faixa etária"
   ]
  },
  {
   "cell_type": "code",
   "execution_count": 46,
   "id": "75fbb36a",
   "metadata": {},
   "outputs": [],
   "source": [
    "df['Idade'].unique()"
   ]
  },
  {
   "cell_type": "markdown",
   "id": "3d4e8975",
   "metadata": {},
   "source": [
    "# Grafico\n",
    "\n",
    "Apresenta a principal causa de afastamento por idade em um scaterplot"
   ]
  },
  {
   "cell_type": "code",
   "execution_count": 48,
   "id": "7915d694",
   "metadata": {},
   "outputs": [],
   "source": [
    "import matplotlib.pyplot as plt\n",
    "\n",
    "df.groupby(['Causa Afastamento 1', 'Faixa Etária'])['Faixa Etária'].count().unstack('Causa Afastamento 1').plot.bar(ax=plt.gca())\n",
    "\n",
    "#.plot(kind='scatter', y='Causa Afastamento 1', x='Idade')"
   ]
  }
 ],
 "metadata": {
  "kernelspec": {
   "display_name": "Python 3 (ipykernel)",
   "language": "python",
   "name": "python3"
  }
 },
 "nbformat": 4,
 "nbformat_minor": 5
}
