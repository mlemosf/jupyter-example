{
 "cells": [
  {
   "cell_type": "markdown",
   "id": "c7144c88",
   "metadata": {},
   "source": [
    "# Analise dos dados da PED\n",
    "\n",
    "Jupyter Notebook para analisar os dados da Pesquisa de Emprego e Desemprego conforme estão em `raw/DIEPS/bases/ped-parquet/NovaPEDDF2018.parquet`."
   ]
  },
  {
   "cell_type": "markdown",
   "id": "31444ddf",
   "metadata": {},
   "source": []
  },
  {
   "cell_type": "markdown",
   "id": "a1c4d52c",
   "metadata": {
    "vscode": {
     "languageId": "r"
    }
   },
   "source": [
    "## Leitura do MinIO\n",
    "\n",
    "Leitura de todos os arquivos carregados do MinIO."
   ]
  },
  {
   "cell_type": "code",
   "execution_count": 2,
   "id": "f40ee645",
   "metadata": {},
   "outputs": [],
   "source": [
    "import pyarrow.dataset as pds\n",
    "import pyarrow.parquet as pq\n",
    "import pyarrow as pa\n",
    "import s3fs\n",
    "import pandas as pd"
   ]
  },
  {
   "cell_type": "code",
   "execution_count": 3,
   "id": "bc76b4e2",
   "metadata": {},
   "outputs": [],
   "source": [
    "ACCESS_KEY = ''\n",
    "SECRET_KEY = ''\n",
    "MINIO_HOST = 'http://minio:9000'"
   ]
  },
  {
   "cell_type": "code",
   "execution_count": 4,
   "id": "90094a64",
   "metadata": {},
   "outputs": [],
   "source": [
    "minio = s3fs.S3FileSystem(key=ACCESS_KEY, # change default key \n",
    "                        secret=SECRET_KEY, # change default secret\n",
    "                        use_ssl=False,\n",
    "                        client_kwargs={\n",
    "                            'endpoint_url': MINIO_HOST} # change ip\n",
    "                        )\n",
    "\n",
    "# Verifiacação da conexão \n",
    "objects = minio.head('raw/DIEPS/bases/nova-ped-parquet')\n",
    "objects"
   ]
  },
  {
   "cell_type": "markdown",
   "id": "59f01840",
   "metadata": {},
   "source": [
    "## Carregamento em dataframe\n",
    "\n",
    "Os arquivos parquet listados acima serão carregados em um único dataframe."
   ]
  },
  {
   "cell_type": "code",
   "execution_count": 106,
   "id": "e64c358e",
   "metadata": {},
   "outputs": [],
   "source": [
    "from io import BytesIO\n",
    "fs = s3fs.core.S3FileSystem()\n",
    "\n",
    "part = pds.partitioning(\n",
    "    pa.schema([\n",
    "        ('year', pa.int16())\n",
    "    ])\n",
    ")\n",
    "dataset = pq.ParquetDataset(\n",
    "    'raw/DIEPS/bases/nova-ped-parquet',\n",
    "    filesystem=minio,\n",
    "    partitioning=part\n",
    ")\n",
    "\n",
    "\n",
    "# dt = dataset.to_table()\n",
    "# dt\n",
    "dataset.files"
   ]
  },
  {
   "cell_type": "code",
   "execution_count": 109,
   "id": "51a154af",
   "metadata": {},
   "outputs": [],
   "source": [
    "fields = []\n",
    "for field in dataset.schema:\n",
    "    fields.append(field.name)\n",
    "#del fields[83]\n",
    "fields"
   ]
  },
  {
   "cell_type": "code",
   "execution_count": 111,
   "id": "0497a1e3",
   "metadata": {},
   "outputs": [],
   "source": [
    "# # Converte para pandas\n",
    "fields_final = fields[0:82] + fields[83:]\n",
    "# len(fields_final)\n",
    "\n",
    "#df = dataset.read(columns=fields_final).to_pandas()\n",
    "import re\n",
    "\n",
    "# Set the columns list to all fields that match the regex r'(C010)|F[0-9]*'\n",
    "#fields = [field for field in fields_final if re.match(r'(C030)|(F[0-9]*)|(year)', field)]\n",
    "#fields = [field for field in fields_final if re.match(r'(C030)|(SIT)|(year)', field)]\n",
    "#fields = fields[['C']]\n",
    "\n",
    "df = dataset.read(columns=fields_final).to_pandas()\n",
    "\n",
    "df[['C030', 'F010', 'F030', 'F070',  'year']]\n",
    "\n",
    "#df[(df['year'] == 2018) & (df['SIT'] != 'Ocupado')]"
   ]
  },
  {
   "cell_type": "code",
   "execution_count": 121,
   "id": "498d9c8f",
   "metadata": {},
   "outputs": [],
   "source": [
    "df2 = df[df['year'] == 2022].copy()"
   ]
  },
  {
   "cell_type": "code",
   "execution_count": 122,
   "id": "8cd9bddb",
   "metadata": {},
   "outputs": [],
   "source": [
    "# desempregado = list(df2['SIT'].cat.categories)\n",
    "# desempregado"
   ]
  },
  {
   "cell_type": "code",
   "execution_count": null,
   "id": "fdaa5962",
   "metadata": {},
   "outputs": [],
   "source": [
    "#pd.set_option('display.max_rows', None)\n",
    "\n",
    "# População economicamente ativa (PEA)\n",
    "pea = df2[\n",
    "    (\n",
    "        (df['SIT'] != 'Inativo com Trabalho Excepcional') &\n",
    "        (df['SIT'] != 'Inativo Puro') &\n",
    "        (df['SIT'] != 'Não se aplica (menor de 14 anos)')\n",
    "    ) &\n",
    "    (\n",
    "        (df2['F010'] == 'Sim') | # Procurou trabalho nos últimos 30 dias?\n",
    "        (df2['F030'] == 'Sim') | # Procurou trabalho nos últimos 12 meses?\n",
    "        (df2['F070'] != 'Não se aplica') # Fez trabalho nos últimos 7 dias?\n",
    "    )\n",
    "].groupby(['C030'])['C030'].count()\n",
    "pea"
   ]
  },
  {
   "cell_type": "code",
   "execution_count": null,
   "id": "8543cfc5",
   "metadata": {},
   "outputs": [],
   "source": [
    "# Desempregados\n",
    "pea_desempregados = df2[\n",
    "    (\n",
    "        (df2['SIT'] == 'Desemprego Oculto pelo Trabalho Precário') |\n",
    "        (df2['SIT'] == 'Desemprego Aberto') |\n",
    "        (df2['SIT'] == 'Desemprego Oculto pelo Desalento')\n",
    "    ) &\n",
    "    (\n",
    "        (df2['F010'] == 'Sim') |\n",
    "        (df2['F030'] == 'Sim') &\n",
    "        (df2['F070'] == 'Não')\n",
    "    )].groupby(['C030'])['C030'].count()\n",
    "pea_desempregados"
   ]
  },
  {
   "cell_type": "code",
   "execution_count": 125,
   "id": "248dd7b2",
   "metadata": {},
   "outputs": [],
   "source": [
    "# taxa = (pea_desempregados / pea) * 100\n",
    "# print(f'{taxa:.2f}%')\n",
    "df_joined = pd.DataFrame(\n",
    "    {\n",
    "        'PEA': pea, \n",
    "        'PEA Desempregados': pea_desempregados\n",
    "     }\n",
    ")\n",
    "df_joined\n",
    "# pea"
   ]
  },
  {
   "cell_type": "code",
   "execution_count": 126,
   "id": "6fada24b",
   "metadata": {},
   "outputs": [],
   "source": [
    "# Taxa de desemprego por sexo\n",
    "\n",
    "(df_joined['PEA Desempregados'] / df_joined['PEA']) * 100"
   ]
  },
  {
   "cell_type": "markdown",
   "id": "f0b97a31",
   "metadata": {},
   "source": [
    "# Analise\n",
    "\n",
    "Gráficos para análise e possível identificação de indicadores nos dados"
   ]
  },
  {
   "cell_type": "code",
   "execution_count": null,
   "id": "304f2286",
   "metadata": {},
   "outputs": [],
   "source": [
    "# Converte os valores 1000000000 para NaN\n",
    "import numpy as np\n",
    "df2 = df.copy()"
   ]
  },
  {
   "cell_type": "markdown",
   "id": "41cc9469",
   "metadata": {},
   "source": [
    "Quantidade de pessoas que receberam o bolsa família por sexo e cor entre 2016 e 2023."
   ]
  },
  {
   "cell_type": "code",
   "execution_count": null,
   "id": "05f816a6",
   "metadata": {},
   "outputs": [],
   "source": [
    "import matplotlib.pyplot as plt"
   ]
  },
  {
   "cell_type": "code",
   "execution_count": null,
   "id": "274431d9",
   "metadata": {},
   "outputs": [],
   "source": [
    "\n",
    "# Cores\n",
    "pastel_colors = ['#98BFA5', '#F7CAC9', '#87CEEB', '#ADD8E6', '#D2B48C']\n",
    "\n",
    "# Renomeia as colunas\n",
    "df2.rename(columns={\n",
    "    'C040': 'Cor',\n",
    "    'C030': 'Sexo',\n",
    "    'year': 'Ano'\n",
    "}, inplace=True)\n",
    "\n",
    "# Realiza o agupamento por cor e sexo\n",
    "fig = plt.figure(dpi=100)\n",
    "df2.groupby(['Cor','Sexo'])['D010'].agg('count').unstack('Sexo').plot.bar(color=pastel_colors, ax=plt.gca())\n",
    "\n",
    "# Apresenta o gráfico\n",
    "plt.title('Quantidade de pessoas que receberam Bolsa Família por sexo e cor')\n",
    "plt.show()\n"
   ]
  },
  {
   "cell_type": "markdown",
   "id": "b59be444",
   "metadata": {},
   "source": [
    "Quantidade de pessoas que receberam bolsa família por cor, por ano.\n"
   ]
  },
  {
   "cell_type": "code",
   "execution_count": null,
   "id": "9962432a",
   "metadata": {},
   "outputs": [],
   "source": [
    "# Cores\n",
    "pastel_colors = ['#98BFA5', '#F7CAC9', '#87CEEB', '#ADD8E6', '#D2B48C']\n",
    "\n",
    "fig = plt.figure(dpi=100)\n",
    "df2.groupby(['Cor','Ano'])['D010'].agg('count').unstack('Cor').plot.line(color=pastel_colors, ax=plt.gca())\n",
    "plt.title('Quantidade de pessoas que receberam Bolsa Família por cor')\n",
    "plt.show()\n"
   ]
  }
 ],
 "metadata": {
  "kernelspec": {
   "display_name": "Python 3 (ipykernel)",
   "language": "python",
   "name": "python3"
  }
 },
 "nbformat": 4,
 "nbformat_minor": 5
}
