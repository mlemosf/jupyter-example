{
 "cells": [
  {
   "cell_type": "code",
   "execution_count": null,
   "id": "ebfff609",
   "metadata": {
    "vscode": {
     "languageId": "r"
    }
   },
   "outputs": [],
   "source": [
    "library(aws.s3)\n",
    "library(arrow)\n",
    "\n",
    "# Configuração do S3\n",
    "Sys.setenv(\n",
    "    \"AWS_ACCESS_KEY_ID\" = \"<CHAVE-S3>\",\n",
    "    \"AWS_SECRET_ACCESS_KEY\" = \"<SECRET-S3>\",\n",
    "    \"AWS_S3_ENDPOINT\"= \"s3-h.ipe.df.gov.br\"\n",
    ")\n",
    "\n",
    "# Variáveis\n",
    "OBJECT_KEY = 'DIEPS/bases/ped-parquet/NovaPEDDF2016.parquet'\n",
    "BUCKET_NAME = 'raw'\n",
    "USE_HTTPS = TRUE"
   ]
  },
  {
   "cell_type": "code",
   "execution_count": null,
   "id": "3cf651b3",
   "metadata": {
    "vscode": {
     "languageId": "r"
    }
   },
   "outputs": [],
   "source": [
    "# Verifica conexão com o MinIO\n",
    "bucketlist(region = '', use_https = TRUE, verbose = TRUE)"
   ]
  },
  {
   "cell_type": "code",
   "execution_count": null,
   "id": "a9e46945",
   "metadata": {
    "vscode": {
     "languageId": "r"
    }
   },
   "outputs": [],
   "source": [
    "# Busca o objeto\n",
    "\n",
    "object_path <- paste0(\"s3://\", BUCKET_NAME, \"/\", OBJECT_KEY)\n",
    "obj = get_object(object = object_path, region = '', use_https = USE_HTTPS)\n",
    "df = read_parquet(obj)\n",
    "head(df)"
   ]
  },
  {
   "cell_type": "code",
   "execution_count": null,
   "id": "99c0c28d",
   "metadata": {
    "vscode": {
     "languageId": "r"
    }
   },
   "outputs": [],
   "source": [
    "# Verifica os metadados da tabela\n",
    "summary(df)"
   ]
  }
 ],
 "metadata": {
  "kernelspec": {
   "display_name": "R",
   "language": "R",
   "name": "ir"
  },
  "language_info": {
   "codemirror_mode": "r",
   "file_extension": ".r",
   "mimetype": "text/x-r-source",
   "name": "R",
   "pygments_lexer": "r",
   "version": "4.5.0"
  }
 },
 "nbformat": 4,
 "nbformat_minor": 5
}
