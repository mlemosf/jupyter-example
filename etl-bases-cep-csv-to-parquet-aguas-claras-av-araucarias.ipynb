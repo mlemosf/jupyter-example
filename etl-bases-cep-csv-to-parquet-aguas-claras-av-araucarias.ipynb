{
 "cells": [
  {
   "cell_type": "code",
   "execution_count": null,
   "id": "537782c1-d06b-4c11-9500-a1afb514ced3",
   "metadata": {},
   "outputs": [],
   "source": [
    "from pyarrow import fs\n",
    "import pyarrow.dataset as ds\n",
    "import pyarrow as pa\n",
    "import s3fs\n",
    "import pandas as pd"
   ]
  },
  {
   "cell_type": "markdown",
   "id": "ee09853e-4b81-4f32-af9a-5ca65cf42a60",
   "metadata": {},
   "source": [
    "# Configuração do ambiente\n",
    "\n",
    "Variáveis:\n",
    "- FILENAME: Nome do arquivo que deve ser lido do raw e armazenado no parquet. NUNCA FAZER MODIFICACOES NO RAW\n",
    "- config: Dicionários com credenciais."
   ]
  },
  {
   "cell_type": "code",
   "execution_count": null,
   "id": "7afa47d0-0094-48ab-a994-53e39698fbd6",
   "metadata": {},
   "outputs": [],
   "source": [
    "FILENAME = 'base-ceb-15-04-2025-utf8'\n",
    "SOURCE_PATH = 'raw/UCTIS/bases-utf8'\n",
    "TARGET_PATH='UCTIS/bases/bases-utf8/base-ceb-15-04-2025'\n",
    "RA = 'aguas-claras-av-araucarias'\n",
    "RESPONSAVEL_NOME = 'matheus.fernandes'\n",
    "RESPONSAVEL_SETOR = 'UCTIS/COGEI/GEINO'\n",
    "RESPONSAVEL_EMAIL = 'matheus.fernandes@ipe.df.gov.br'\n",
    "PROCESSED = 'false'"
   ]
  },
  {
   "cell_type": "code",
   "execution_count": null,
   "id": "586e1876-f86f-4ce3-8e5e-237e8630808c",
   "metadata": {},
   "outputs": [],
   "source": [
    "minio = s3fs.S3FileSystem(key=\"\", # change default key \n",
    "                        secret=\"\", # change default secret\n",
    "                        use_ssl=False,\n",
    "                        client_kwargs={\n",
    "                            'endpoint_url': 'http://minio:9000'} # change ip\n",
    "                         )\n",
    "minio.ls(SOURCE_PATH)"
   ]
  },
  {
   "cell_type": "code",
   "execution_count": null,
   "id": "62da2b37-773d-40a9-9707-9bf40ff0a3d5",
   "metadata": {
    "editable": true,
    "slideshow": {
     "slide_type": ""
    },
    "tags": []
   },
   "outputs": [],
   "source": [
    "# Le arquivo csv do minio\n",
    "with minio.open(f'{SOURCE_PATH}/{FILENAME}.csv', 'r', encoding='utf-8') as f:\n",
    "    response = f.read()\n",
    "\n",
    "# Copia para um dataframe\n",
    "# response\n",
    "from io import BytesIO, StringIO\n",
    "df = pd.read_csv(StringIO(response), sep=';')\n",
    "df"
   ]
  },
  {
   "cell_type": "code",
   "execution_count": null,
   "id": "f5faf4a2-b812-48be-844d-7dc92f0d1d94",
   "metadata": {},
   "outputs": [],
   "source": [
    "df_copy = df.copy()"
   ]
  },
  {
   "cell_type": "markdown",
   "id": "60194b16-32d4-4fbb-8a36-8a416e78c2b0",
   "metadata": {},
   "source": [
    "# Filtragem\n",
    "\n",
    "Realiza a filtragem por RA"
   ]
  },
  {
   "cell_type": "code",
   "execution_count": null,
   "id": "4fe53601-5768-4ef4-a066-52f38fac3340",
   "metadata": {},
   "outputs": [],
   "source": [
    "df_copy = df.loc[(df_copy['ra'] == '?üguas Claras') & (df_copy['classe'] == 'RESIDENCIAL')]\n",
    "df_copy"
   ]
  },
  {
   "cell_type": "code",
   "execution_count": null,
   "id": "d85c16fc-4ae2-47db-831b-e7cb593f0fbd",
   "metadata": {},
   "outputs": [],
   "source": [
    "df2 = df_copy"
   ]
  },
  {
   "cell_type": "markdown",
   "id": "4e52506d-083e-4922-9120-61af8943c6d3",
   "metadata": {},
   "source": [
    "# Extração\n",
    "\n",
    "Extrai apenas as colunas que tem a ver com endereço e filtra apenas as quadras fora de nucleo rural.\n"
   ]
  },
  {
   "cell_type": "code",
   "execution_count": null,
   "id": "27be60cc-fb97-4a1e-b137-9ad000b99915",
   "metadata": {},
   "outputs": [],
   "source": [
    "import re\n",
    "pattern = re.compile(r'^(AV ARAUCARIAS)')\n",
    "df2 = df2[\n",
    "    ['endereco', 'latitude', 'longitude', 'localidade', 'classe', 'bairro_pda']\n",
    "]\n",
    "df2 = df2.loc[\n",
    "    df2['endereco'].str.contains(pattern)\n",
    "]\n",
    "# df2['endereco'] = df2['endereco'].str.replace('H I', 'H/I').str.replace('H /I', 'H/I').str.replace('H E I', 'H/I')\n",
    "df2"
   ]
  },
  {
   "cell_type": "markdown",
   "id": "3512b5c2-9f32-44d9-b4ae-baa8272fbe9e",
   "metadata": {},
   "source": [
    "# Tratamento dos dados\n",
    "Remoção de valores nulos e quebra da coluna de endereço nos seguintes componentes:\n",
    "\n",
    "- identificador_setor (ST, setor);\n",
    "- setor;\n",
    "- identificador_quadra (QD, quadra);\n",
    "- quadra;\n",
    "- identificador_conjunto (CJ, conjunto, BL, bloco);\n",
    "- conjunto;\n",
    "- identificador_lote (LT, lote, CS, casa);\n",
    "- lote;\n",
    "- complemento (opcional). Ex: nome do edifício;\n",
    "- regiao_administrativa,\n"
   ]
  },
  {
   "cell_type": "code",
   "execution_count": null,
   "id": "d379bfd1-be37-4579-8ef1-77396c1e977a",
   "metadata": {},
   "outputs": [],
   "source": [
    "# Quebra da coluna de endereco nos componentes acima\n",
    "df2['identificador_setor'] = df2['endereco'].str.split(' ').str[0]\n",
    "df2['setor'] = df2['endereco'].str.split(' ').str[1]\n",
    "\n",
    "df2['identificador_quadra'] = df2['endereco'].str.extract(r'.*(LT).*')\n",
    "df2['quadra'] = df2['endereco'].str.extract(r'LT (\\S+) \\S+')\n",
    "\n",
    "df2['identificador_conjunto'] = df2['endereco'].str.extract(r'.*(BL).*')\n",
    "df2['conjunto'] = df2['endereco'].str.extract(r'BL ([A-Z]) \\S+')\n",
    "\n",
    "df2['identificador_lote'] = df2['endereco'].str.extract(r'.*([AS][PL]).*') # Match \"SL\" or \"AP\"\n",
    "df2['lote'] = df2['endereco'].str.extract(r'[AS][PL] (\\d+) ')\n",
    "\n",
    "# Renomeia colunas\n",
    "# df2.rename(columns={'bairro_pda': 'setor'}, inplace=True)\n",
    "\n",
    "df2"
   ]
  },
  {
   "cell_type": "code",
   "execution_count": null,
   "id": "29d4cb95-9015-454e-8c20-75ac6883551c",
   "metadata": {},
   "outputs": [],
   "source": [
    "# Remove colunas\n",
    "del df2['endereco']"
   ]
  },
  {
   "cell_type": "markdown",
   "id": "e1e62195-ce9a-4b9b-ad7c-cbd6992b7b8f",
   "metadata": {},
   "source": [
    "# Carregamento\n",
    "\n",
    "Carregamento no bucket `intermediate` para análise com outras ferramentas ou mais tratamento para carregamento no DW."
   ]
  },
  {
   "cell_type": "code",
   "execution_count": null,
   "id": "31055f1c-bfc2-45a1-852a-03ea062d4142",
   "metadata": {},
   "outputs": [],
   "source": [
    "# Converte para parquet e sobe para o minio\n",
    "from pyarrow import Table, parquet as pq\n",
    "minio_url = f's3://intermediate/{TARGET_PATH}/{FILENAME}-{RA}.parquet'\n",
    "\n",
    "pq.write_table(\n",
    "    Table.from_pandas(df2),\n",
    "    minio_url,\n",
    "    filesystem=minio,\n",
    "    use_dictionary=True,\n",
    "    compression='snappy',\n",
    "    version='2.6',\n",
    ")"
   ]
  },
  {
   "cell_type": "code",
   "execution_count": null,
   "id": "00f693ed-a023-4655-8f1d-b31b08d86be5",
   "metadata": {},
   "outputs": [],
   "source": [
    "# Adiciona tags ao arquivo\n",
    "tags = {\n",
    "    'User': RESPONSAVEL_NOME,\n",
    "    'Department': RESPONSAVEL_SETOR,\n",
    "    'Email': RESPONSAVEL_EMAIL,\n",
    "    'Processed': PROCESSED,\n",
    "}\n",
    "parquet_partitions = minio.ls(f'intermediate/{TARGET_PATH}/{FILENAME}-{RA}.parquet')\n",
    "# parquet_partitions\n",
    "for p in parquet_partitions:\n",
    "    minio.put_tags(p, tags, mode='o')"
   ]
  },
  {
   "cell_type": "code",
   "execution_count": null,
   "id": "b1160584-dd7d-43f1-862a-d2891ef353b5",
   "metadata": {},
   "outputs": [],
   "source": []
  }
 ],
 "metadata": {
  "kernelspec": {
   "display_name": "Python 3 (ipykernel)",
   "language": "python",
   "name": "python3"
  },
  "language_info": {
   "codemirror_mode": {
    "name": "ipython",
    "version": 3
   },
   "file_extension": ".py",
   "mimetype": "text/x-python",
   "name": "python",
   "nbconvert_exporter": "python",
   "pygments_lexer": "ipython3",
   "version": "3.12.9"
  }
 },
 "nbformat": 4,
 "nbformat_minor": 5
}
